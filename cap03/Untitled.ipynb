{
 "cells": [
  {
   "cell_type": "markdown",
   "id": "def91ade",
   "metadata": {},
   "source": [
    "# código para calcular a área de um paralelograma:"
   ]
  },
  {
   "cell_type": "code",
   "execution_count": 1,
   "id": "69b09c04",
   "metadata": {},
   "outputs": [
    {
     "name": "stdout",
     "output_type": "stream",
     "text": [
      "Bem vindo so Calculador de área de paralelograma\n"
     ]
    }
   ],
   "source": [
    "print('Bem vindo ao Calculador de área de paralelograma')"
   ]
  },
  {
   "cell_type": "code",
   "execution_count": 2,
   "id": "39441e7a",
   "metadata": {},
   "outputs": [
    {
     "name": "stdout",
     "output_type": "stream",
     "text": [
      "Insira o comprimento da base: 10\n"
     ]
    }
   ],
   "source": [
    "base = float(input('Insira o comprimento da base: '))"
   ]
  },
  {
   "cell_type": "code",
   "execution_count": 3,
   "id": "fca57549",
   "metadata": {},
   "outputs": [
    {
     "name": "stdout",
     "output_type": "stream",
     "text": [
      "Insira a altura: 5\n"
     ]
    }
   ],
   "source": [
    "altura = float(input('Insira a altura: '))"
   ]
  },
  {
   "cell_type": "code",
   "execution_count": 4,
   "id": "ea322ea4",
   "metadata": {},
   "outputs": [],
   "source": [
    "area = base * altura"
   ]
  },
  {
   "cell_type": "code",
   "execution_count": 5,
   "id": "543a417a",
   "metadata": {},
   "outputs": [
    {
     "name": "stdout",
     "output_type": "stream",
     "text": [
      "A área do parelelograma é:  50.0\n"
     ]
    }
   ],
   "source": [
    "print('A área do parelelograma é: ', area)"
   ]
  },
  {
   "cell_type": "markdown",
   "id": "6ca622e5",
   "metadata": {},
   "source": [
    "# código para uma calculadora simples"
   ]
  },
  {
   "cell_type": "code",
   "execution_count": 9,
   "id": "7110225d",
   "metadata": {},
   "outputs": [
    {
     "name": "stdout",
     "output_type": "stream",
     "text": [
      "Bem vindo a calculadora simples!\n"
     ]
    }
   ],
   "source": [
    "print('Bem vindo a calculadora simples!')"
   ]
  },
  {
   "cell_type": "code",
   "execution_count": 16,
   "id": "14dec269",
   "metadata": {},
   "outputs": [
    {
     "name": "stdout",
     "output_type": "stream",
     "text": [
      "Digite \"soma\" caso queira fazer uma operação de soma, \"sub\" caso queira fazer subtração, \"div\" caso seja divisão e \"mult\" caso seja multiplicaçãoasdf\n"
     ]
    }
   ],
   "source": [
    "tipoCalculo = input('Digite \"soma\" caso queira fazer uma operação de soma, \"sub\" caso queira fazer subtração, \"div\" caso seja divisão e \"mult\" caso seja multiplicação')"
   ]
  },
  {
   "cell_type": "code",
   "execution_count": 11,
   "id": "fd231e2a",
   "metadata": {},
   "outputs": [
    {
     "name": "stdout",
     "output_type": "stream",
     "text": [
      "Qual o primeiro número?5\n"
     ]
    }
   ],
   "source": [
    "num1 = float(input('Qual o primeiro número?'))"
   ]
  },
  {
   "cell_type": "code",
   "execution_count": 12,
   "id": "7d89ff98",
   "metadata": {},
   "outputs": [
    {
     "name": "stdout",
     "output_type": "stream",
     "text": [
      "Qual o segundo número?10\n"
     ]
    }
   ],
   "source": [
    "num2 = float(input('Qual o segundo número?'))"
   ]
  },
  {
   "cell_type": "code",
   "execution_count": 17,
   "id": "afd0b5b5",
   "metadata": {},
   "outputs": [
    {
     "name": "stdout",
     "output_type": "stream",
     "text": [
      "Tipo de cálculo não existe\n"
     ]
    }
   ],
   "source": [
    "if tipoCalculo == 'soma':\n",
    "    res = num1 + num2\n",
    "    print('O resultado é: ', res)\n",
    "elif tipoCalculo == 'sub':\n",
    "    res = num1 - num2\n",
    "    print('O resultado é: ', res)\n",
    "elif tipoCalculo == 'div':\n",
    "    res = num1 / num2\n",
    "    print('O resultado é: ', res)\n",
    "elif tipoCalculo == 'mult':\n",
    "    res = num1 * num2\n",
    "    print('O resultado é: ', res)\n",
    "else:\n",
    "    print('Tipo de cálculo não existe')"
   ]
  },
  {
   "cell_type": "markdown",
   "id": "d636b586",
   "metadata": {},
   "source": [
    "# bubble sort"
   ]
  },
  {
   "cell_type": "code",
   "execution_count": 98,
   "id": "99bbeacb",
   "metadata": {},
   "outputs": [],
   "source": [
    "lista = [1, 2, 3, 0, 4, 6, 5, 7, 8, 9]"
   ]
  },
  {
   "cell_type": "code",
   "execution_count": 99,
   "id": "758ab9cf",
   "metadata": {},
   "outputs": [],
   "source": [
    "def bubbleSort(arr):\n",
    "    n = len(arr)\n",
    "    for i in range(n):\n",
    "        for j in range(0, n-i-1):\n",
    "            if arr[j] > arr[j + 1]:\n",
    "                arr[j], arr[j + 1] = arr[j + 1], arr[j]\n",
    "    return arr"
   ]
  },
  {
   "cell_type": "code",
   "execution_count": 100,
   "id": "429340b7",
   "metadata": {},
   "outputs": [
    {
     "name": "stdout",
     "output_type": "stream",
     "text": [
      "[0, 1, 2, 3, 4, 5, 6, 7, 8, 9]\n"
     ]
    }
   ],
   "source": [
    "print(bubbleSort(lista))"
   ]
  },
  {
   "cell_type": "code",
   "execution_count": null,
   "id": "2d80badf",
   "metadata": {},
   "outputs": [],
   "source": []
  }
 ],
 "metadata": {
  "kernelspec": {
   "display_name": "Python 3 (ipykernel)",
   "language": "python",
   "name": "python3"
  },
  "language_info": {
   "codemirror_mode": {
    "name": "ipython",
    "version": 3
   },
   "file_extension": ".py",
   "mimetype": "text/x-python",
   "name": "python",
   "nbconvert_exporter": "python",
   "pygments_lexer": "ipython3",
   "version": "3.9.13"
  }
 },
 "nbformat": 4,
 "nbformat_minor": 5
}
