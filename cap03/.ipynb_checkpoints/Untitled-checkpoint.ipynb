{
 "cells": [
  {
   "cell_type": "markdown",
   "id": "0ac366bb",
   "metadata": {},
   "source": [
    "# código para calcular a área de um paralelograma:"
   ]
  },
  {
   "cell_type": "code",
   "execution_count": 1,
   "id": "a0f4e7b3",
   "metadata": {},
   "outputs": [
    {
     "name": "stdout",
     "output_type": "stream",
     "text": [
      "Bem vindo so Calculador de área de paralelograma\n"
     ]
    }
   ],
   "source": [
    "print('Bem vindo ao Calculador de área de paralelograma')"
   ]
  },
  {
   "cell_type": "code",
   "execution_count": 2,
   "id": "92f1474a",
   "metadata": {},
   "outputs": [
    {
     "name": "stdout",
     "output_type": "stream",
     "text": [
      "Insira o comprimento da base: 10\n"
     ]
    }
   ],
   "source": [
    "base = float(input('Insira o comprimento da base: '))"
   ]
  },
  {
   "cell_type": "code",
   "execution_count": 3,
   "id": "970073cc",
   "metadata": {},
   "outputs": [
    {
     "name": "stdout",
     "output_type": "stream",
     "text": [
      "Insira a altura: 5\n"
     ]
    }
   ],
   "source": [
    "altura = float(input('Insira a altura: '))"
   ]
  },
  {
   "cell_type": "code",
   "execution_count": 4,
   "id": "a19702d1",
   "metadata": {},
   "outputs": [],
   "source": [
    "area = base * altura"
   ]
  },
  {
   "cell_type": "code",
   "execution_count": 5,
   "id": "6d028472",
   "metadata": {},
   "outputs": [
    {
     "name": "stdout",
     "output_type": "stream",
     "text": [
      "A área do parelelograma é:  50.0\n"
     ]
    }
   ],
   "source": [
    "print('A área do parelelograma é: ', area)"
   ]
  },
  {
   "cell_type": "markdown",
   "id": "8cfe5411",
   "metadata": {},
   "source": [
    "# código para uma calculadora simples"
   ]
  },
  {
   "cell_type": "code",
   "execution_count": 9,
   "id": "2bc00297",
   "metadata": {},
   "outputs": [
    {
     "name": "stdout",
     "output_type": "stream",
     "text": [
      "Bem vindo a calculadora simples!\n"
     ]
    }
   ],
   "source": [
    "print('Bem vindo a calculadora simples!')"
   ]
  },
  {
   "cell_type": "code",
   "execution_count": 16,
   "id": "3854f826",
   "metadata": {},
   "outputs": [
    {
     "name": "stdout",
     "output_type": "stream",
     "text": [
      "Digite \"soma\" caso queira fazer uma operação de soma, \"sub\" caso queira fazer subtração, \"div\" caso seja divisão e \"mult\" caso seja multiplicaçãoasdf\n"
     ]
    }
   ],
   "source": [
    "tipoCalculo = input('Digite \"soma\" caso queira fazer uma operação de soma, \"sub\" caso queira fazer subtração, \"div\" caso seja divisão e \"mult\" caso seja multiplicação')"
   ]
  },
  {
   "cell_type": "code",
   "execution_count": 11,
   "id": "cf6e154b",
   "metadata": {},
   "outputs": [
    {
     "name": "stdout",
     "output_type": "stream",
     "text": [
      "Qual o primeiro número?5\n"
     ]
    }
   ],
   "source": [
    "num1 = float(input('Qual o primeiro número?'))"
   ]
  },
  {
   "cell_type": "code",
   "execution_count": 12,
   "id": "4dd324b5",
   "metadata": {},
   "outputs": [
    {
     "name": "stdout",
     "output_type": "stream",
     "text": [
      "Qual o segundo número?10\n"
     ]
    }
   ],
   "source": [
    "num2 = float(input('Qual o segundo número?'))"
   ]
  },
  {
   "cell_type": "code",
   "execution_count": 17,
   "id": "a4e8bfa4",
   "metadata": {},
   "outputs": [
    {
     "name": "stdout",
     "output_type": "stream",
     "text": [
      "Tipo de cálculo não existe\n"
     ]
    }
   ],
   "source": [
    "if tipoCalculo == 'soma':\n",
    "    res = num1 + num2\n",
    "    print('O resultado é: ', res)\n",
    "elif tipoCalculo == 'sub':\n",
    "    res = num1 - num2\n",
    "    print('O resultado é: ', res)\n",
    "elif tipoCalculo == 'div':\n",
    "    res = num1 / num2\n",
    "    print('O resultado é: ', res)\n",
    "elif tipoCalculo == 'mult':\n",
    "    res = num1 * num2\n",
    "    print('O resultado é: ', res)\n",
    "else:\n",
    "    print('Tipo de cálculo não existe')"
   ]
  },
  {
   "cell_type": "markdown",
   "id": "616dbc52",
   "metadata": {},
   "source": [
    "# bubble sort"
   ]
  },
  {
   "cell_type": "code",
   "execution_count": 46,
   "id": "7a779c4e",
   "metadata": {},
   "outputs": [],
   "source": [
    "lista = [4, 2, 8, 1, 7, 3, 9, 5, 6, 0]"
   ]
  },
  {
   "cell_type": "code",
   "execution_count": 47,
   "id": "1e53efbc",
   "metadata": {},
   "outputs": [
    {
     "ename": "IndexError",
     "evalue": "list index out of range",
     "output_type": "error",
     "traceback": [
      "\u001b[1;31m---------------------------------------------------------------------------\u001b[0m",
      "\u001b[1;31mIndexError\u001b[0m                                Traceback (most recent call last)",
      "\u001b[1;32m~\\AppData\\Local\\Temp\\ipykernel_15136\\797391700.py\u001b[0m in \u001b[0;36m<module>\u001b[1;34m\u001b[0m\n\u001b[0;32m      1\u001b[0m \u001b[1;32mfor\u001b[0m \u001b[0mnum\u001b[0m \u001b[1;32min\u001b[0m \u001b[0mrange\u001b[0m\u001b[1;33m(\u001b[0m\u001b[0mlen\u001b[0m\u001b[1;33m(\u001b[0m\u001b[0mlista\u001b[0m\u001b[1;33m)\u001b[0m \u001b[1;33m-\u001b[0m \u001b[1;36m1\u001b[0m\u001b[1;33m)\u001b[0m\u001b[1;33m:\u001b[0m\u001b[1;33m\u001b[0m\u001b[1;33m\u001b[0m\u001b[0m\n\u001b[1;32m----> 2\u001b[1;33m     \u001b[1;32mwhile\u001b[0m\u001b[1;33m(\u001b[0m\u001b[0mlista\u001b[0m\u001b[1;33m[\u001b[0m\u001b[0mnum\u001b[0m\u001b[1;33m]\u001b[0m \u001b[1;33m>\u001b[0m \u001b[0mlista\u001b[0m\u001b[1;33m[\u001b[0m\u001b[0mnum\u001b[0m \u001b[1;33m+\u001b[0m \u001b[1;36m1\u001b[0m\u001b[1;33m]\u001b[0m\u001b[1;33m)\u001b[0m\u001b[1;33m:\u001b[0m\u001b[1;33m\u001b[0m\u001b[1;33m\u001b[0m\u001b[0m\n\u001b[0m\u001b[0;32m      3\u001b[0m         \u001b[0mtemp\u001b[0m \u001b[1;33m=\u001b[0m \u001b[0mlista\u001b[0m\u001b[1;33m[\u001b[0m\u001b[0mnum\u001b[0m\u001b[1;33m]\u001b[0m\u001b[1;33m\u001b[0m\u001b[1;33m\u001b[0m\u001b[0m\n\u001b[0;32m      4\u001b[0m         \u001b[0mlista\u001b[0m\u001b[1;33m[\u001b[0m\u001b[0mnum\u001b[0m\u001b[1;33m]\u001b[0m \u001b[1;33m=\u001b[0m \u001b[0mlista\u001b[0m\u001b[1;33m[\u001b[0m\u001b[0mnum\u001b[0m \u001b[1;33m+\u001b[0m \u001b[1;36m1\u001b[0m\u001b[1;33m]\u001b[0m\u001b[1;33m\u001b[0m\u001b[1;33m\u001b[0m\u001b[0m\n\u001b[0;32m      5\u001b[0m         \u001b[0mlista\u001b[0m\u001b[1;33m[\u001b[0m\u001b[0mnum\u001b[0m \u001b[1;33m+\u001b[0m \u001b[1;36m1\u001b[0m\u001b[1;33m]\u001b[0m \u001b[1;33m=\u001b[0m \u001b[0mtemp\u001b[0m\u001b[1;33m\u001b[0m\u001b[1;33m\u001b[0m\u001b[0m\n",
      "\u001b[1;31mIndexError\u001b[0m: list index out of range"
     ]
    }
   ],
   "source": [
    "for num in range(len(lista) - 1):\n",
    "    while(lista[num] > lista[num + 1]):\n",
    "        temp = lista[num]\n",
    "        lista[num] = lista[num + 1]\n",
    "        lista[num + 1] = temp\n",
    "        num += 1"
   ]
  },
  {
   "cell_type": "code",
   "execution_count": 45,
   "id": "f87bd706",
   "metadata": {},
   "outputs": [
    {
     "name": "stdout",
     "output_type": "stream",
     "text": [
      "[1, 2, 0, 3, 4, 5, 6, 7, 8, 9]\n"
     ]
    }
   ],
   "source": [
    "print(lista)"
   ]
  },
  {
   "cell_type": "code",
   "execution_count": null,
   "id": "760d2bf1",
   "metadata": {},
   "outputs": [],
   "source": []
  }
 ],
 "metadata": {
  "kernelspec": {
   "display_name": "Python 3 (ipykernel)",
   "language": "python",
   "name": "python3"
  },
  "language_info": {
   "codemirror_mode": {
    "name": "ipython",
    "version": 3
   },
   "file_extension": ".py",
   "mimetype": "text/x-python",
   "name": "python",
   "nbconvert_exporter": "python",
   "pygments_lexer": "ipython3",
   "version": "3.9.13"
  }
 },
 "nbformat": 4,
 "nbformat_minor": 5
}
